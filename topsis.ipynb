{
 "cells": [
  {
   "cell_type": "markdown",
   "metadata": {},
   "source": [
    "# Ideia do mini projeto:\n",
    "Implementar o algoritmo de tomada de decisão chamado TOPSIS\n",
    "\n",
    "- O projeto deve receber como entrada uma matriz com alternativas e critérios\n",
    "    - Ler de um arquivo .csv usando NumPy\n",
    "- Deve retornar um ranking de quais alternativas são as melhores\n"
   ]
  },
  {
   "cell_type": "code",
   "execution_count": 2,
   "metadata": {},
   "outputs": [],
   "source": [
    "import numpy as np\n",
    "import matplotlib.pyplot as plt"
   ]
  },
  {
   "cell_type": "code",
   "execution_count": 3,
   "metadata": {},
   "outputs": [],
   "source": [
    "def read_csv_file(file_path):\n",
    "    # Lê o arquivo CSV usando NumPy e converte para uma matriz\n",
    "    data = np.genfromtxt(file_path, delimiter=',', skip_header=0, dtype=None, encoding='utf-8')\n",
    "    return data"
   ]
  },
  {
   "cell_type": "code",
   "execution_count": 4,
   "metadata": {},
   "outputs": [],
   "source": [
    "def topsis(matrix, cost_ben, weights):\n",
    "    # Normalize the matrix (exmaple of use of broadcasting)\n",
    "    norm_matrix = matrix / np.sqrt(np.sum(matrix**2, axis=0))\n",
    "\n",
    "    # Apply cost-benefit analysis\n",
    "    for i, cb in enumerate(cost_ben):\n",
    "        if cb == 'c':  # Se o critério for um custo, inverte o sinal da coluna\n",
    "            norm_matrix[:, i] = -norm_matrix[:, i]\n",
    "\n",
    "    # Calculate the weighted normalized matrix\n",
    "    weighted_matrix = norm_matrix * weights\n",
    "\n",
    "    # Calculate the positive and negative ideal solutions\n",
    "    ideal_positive = np.max(weighted_matrix, axis=0)\n",
    "    ideal_negative = np.min(weighted_matrix, axis=0)\n",
    "\n",
    "    # Calculate the distance to the ideal solutions\n",
    "    distance_positive = np.sqrt(np.sum((weighted_matrix - ideal_positive)**2, axis=1))\n",
    "    distance_negative = np.sqrt(np.sum((weighted_matrix - ideal_negative)**2, axis=1))\n",
    "\n",
    "    # Calculate the similarity\n",
    "    ranking = distance_negative / (distance_positive + distance_negative)\n",
    "\n",
    "    # print(\"matrix\\n\", matrix)\n",
    "    # print(\"\\nnorm_matrix\\n\",norm_matrix)\n",
    "    # print(\"\\nweighted_matrix\\n\",weighted_matrix)\n",
    "    # print(\"\\nideal_positive\\n\", ideal_positive)\n",
    "    # print(\"\\nideal_negative\\n\",ideal_negative)\n",
    "    # print(\"\\ndistance_positive\\n\",distance_positive)\n",
    "    # print(\"\\ndistance_negative\\n\",distance_negative)\n",
    "    # print(\"\\nranking\\n\",ranking)\n",
    "\n",
    "    return ranking"
   ]
  },
  {
   "cell_type": "code",
   "execution_count": 5,
   "metadata": {},
   "outputs": [
    {
     "name": "stdout",
     "output_type": "stream",
     "text": [
      "Ranking: [0.78562925 0.66099579 0.21437075]\n"
     ]
    }
   ],
   "source": [
    "file_path = 'cars.csv'\n",
    "data = read_csv_file(file_path)\n",
    "alternatives = data[1:, 0]\n",
    "criteria = data[0, 1:]\n",
    "values_matrix = data[1:, 1:].astype(float)\n",
    "\n",
    "# print(alternatives)\n",
    "# print(criteria)\n",
    "# print(values_matrix)\n",
    "\n",
    "# Pesos dos critérios\n",
    "weights = np.array([0.30, 0.05, 0.60, 0.05])\n",
    "cost_ben = np.array([\"c\", \"b\", \"c\", \"b\"])\n",
    "\n",
    "\n",
    "# Obter o ranking das alternativas usando o algoritmo TOPSIS\n",
    "ranking = topsis(values_matrix, cost_ben, weights)\n",
    "print(f\"Ranking: {ranking}\")"
   ]
  },
  {
   "cell_type": "code",
   "execution_count": 6,
   "metadata": {},
   "outputs": [
    {
     "data": {
      "image/png": "[encoded data removed]",
      "text/plain": [
       "<Figure size 640x480 with 1 Axes>"
      ]
     },
     "metadata": {},
     "output_type": "display_data"
    }
   ],
   "source": [
    "# Criar um gráfico de barras vertical para mostrar o ranking\n",
    "plt.bar(np.arange(len(ranking)), ranking)\n",
    "plt.xlabel('Alternatives')\n",
    "plt.ylabel('Ranking')\n",
    "plt.title('Ranking of options')\n",
    "plt.xticks(np.arange(len(ranking)), alternatives)\n",
    "plt.show()"
   ]
  }
 ],
 "metadata": {
  "kernelspec": {
   "display_name": "Python 3",
   "language": "python",
   "name": "python3"
  },
  "language_info": {
   "codemirror_mode": {
    "name": "ipython",
    "version": 3
   },
   "file_extension": ".py",
   "mimetype": "text/x-python",
   "name": "python",
   "nbconvert_exporter": "python",
   "pygments_lexer": "ipython3",
   "version": "3.12.2"
  }
 },
 "nbformat": 4,
 "nbformat_minor": 2
}
